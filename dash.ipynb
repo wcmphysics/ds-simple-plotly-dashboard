{
 "cells": [
  {
   "cell_type": "markdown",
   "source": [
    "# Simple Dash Plotly Dashboard"
   ],
   "metadata": {}
  },
  {
   "cell_type": "code",
   "execution_count": null,
   "source": [
    "import pandas as pd\n",
    "import dash\n",
    "import dash_core_components as dcc\n",
    "import plotly.graph_objects as go\n",
    "import dash_html_components as html"
   ],
   "outputs": [],
   "metadata": {}
  },
  {
   "cell_type": "code",
   "execution_count": null,
   "source": [
    "LEGEND = [\"POSITIVE\", \"NEGATIVE\"]\n",
    "SCORES = [0.5, 0.2]\n",
    "\n",
    "def get_figure(legend, scores):\n",
    "    return go.Figure(\n",
    "        [go.Bar(x=legend, y=scores)],\n",
    "        layout=go.Layout(template=\"simple_white\"),\n",
    "    )\n",
    "\n",
    "\n",
    "fig = get_figure(LEGEND, SCORES)"
   ],
   "outputs": [],
   "metadata": {}
  },
  {
   "cell_type": "code",
   "execution_count": null,
   "source": [
    "fig.show()"
   ],
   "outputs": [],
   "metadata": {}
  },
  {
   "cell_type": "code",
   "execution_count": null,
   "source": [],
   "outputs": [],
   "metadata": {}
  }
 ],
 "metadata": {
  "orig_nbformat": 4,
  "language_info": {
   "name": "python"
  }
 },
 "nbformat": 4,
 "nbformat_minor": 2
}